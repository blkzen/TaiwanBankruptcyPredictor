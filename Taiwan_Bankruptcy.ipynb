{
  "nbformat": 4,
  "nbformat_minor": 0,
  "metadata": {
    "colab": {
      "name": "Taiwan Bankruptcy.ipynb",
      "provenance": [],
      "toc_visible": true,
      "mount_file_id": "1Ml_Y2h7tJ_a1kaT-AXrfhcclLotYIvDt",
      "authorship_tag": "ABX9TyME67gvNTiByC6pnHdHZdr4"
    },
    "kernelspec": {
      "name": "python3",
      "display_name": "Python 3"
    }
  },
  "cells": [
    {
      "cell_type": "markdown",
      "metadata": {
        "id": "mHww6wPP4DsG"
      },
      "source": [
        "# Libraries"
      ]
    },
    {
      "cell_type": "code",
      "metadata": {
        "id": "sHIB5sme3fwn"
      },
      "source": [
        "from google.colab import drive\r\n",
        "import numpy as np\r\n",
        "import pandas as pd\r\n",
        "import matplotlib.pyplot as plt\r\n",
        "%matplotlib inline\r\n",
        "import seaborn as sns\r\n",
        "from imblearn.over_sampling import SMOTE\r\n",
        "from sklearn.preprocessing import StandardScaler\r\n",
        "from sklearn.model_selection import train_test_split\r\n",
        "from sklearn.feature_selection import SelectFromModel, mutual_info_classif, f_classif, SelectKBest\r\n",
        "from sklearn.linear_model import LogisticRegression\r\n",
        "from sklearn.metrics import classification_report, confusion_matrix, accuracy_score"
      ],
      "execution_count": 21,
      "outputs": []
    },
    {
      "cell_type": "markdown",
      "metadata": {
        "id": "Lpx0U1Fv4y2-"
      },
      "source": [
        "# Data Input"
      ]
    },
    {
      "cell_type": "code",
      "metadata": {
        "id": "K_o_sbzZ4HWZ"
      },
      "source": [
        "data = pd.read_csv('/content/drive/MyDrive/Colab Notebooks/Taiwan Bankruptcy/TaiBankrupt.csv')\r\n",
        "df = pd.DataFrame(data=data)"
      ],
      "execution_count": 6,
      "outputs": []
    },
    {
      "cell_type": "markdown",
      "metadata": {
        "id": "hNxvkztg5omH"
      },
      "source": [
        "# Data Cleaning"
      ]
    },
    {
      "cell_type": "code",
      "metadata": {
        "colab": {
          "base_uri": "https://localhost:8080/"
        },
        "id": "xCHpe8C55qgy",
        "outputId": "7677539f-6d7b-4fb8-e520-5360e64e6059"
      },
      "source": [
        "df.info()"
      ],
      "execution_count": 7,
      "outputs": [
        {
          "output_type": "stream",
          "text": [
            "<class 'pandas.core.frame.DataFrame'>\n",
            "RangeIndex: 6819 entries, 0 to 6818\n",
            "Data columns (total 96 columns):\n",
            " #   Column                                                    Non-Null Count  Dtype  \n",
            "---  ------                                                    --------------  -----  \n",
            " 0   Bankrupt?                                                 6819 non-null   int64  \n",
            " 1    ROA(C) before interest and depreciation before interest  6819 non-null   float64\n",
            " 2    ROA(A) before interest and % after tax                   6819 non-null   float64\n",
            " 3    ROA(B) before interest and depreciation after tax        6819 non-null   float64\n",
            " 4    Operating Gross Margin                                   6819 non-null   float64\n",
            " 5    Realized Sales Gross Margin                              6819 non-null   float64\n",
            " 6    Operating Profit Rate                                    6819 non-null   float64\n",
            " 7    Pre-tax net Interest Rate                                6819 non-null   float64\n",
            " 8    After-tax net Interest Rate                              6819 non-null   float64\n",
            " 9    Non-industry income and expenditure/revenue              6819 non-null   float64\n",
            " 10   Continuous interest rate (after tax)                     6819 non-null   float64\n",
            " 11   Operating Expense Rate                                   6819 non-null   float64\n",
            " 12   Research and development expense rate                    6819 non-null   float64\n",
            " 13   Cash flow rate                                           6819 non-null   float64\n",
            " 14   Interest-bearing debt interest rate                      6819 non-null   float64\n",
            " 15   Tax rate (A)                                             6819 non-null   float64\n",
            " 16   Net Value Per Share (B)                                  6819 non-null   float64\n",
            " 17   Net Value Per Share (A)                                  6819 non-null   float64\n",
            " 18   Net Value Per Share (C)                                  6819 non-null   float64\n",
            " 19   Persistent EPS in the Last Four Seasons                  6819 non-null   float64\n",
            " 20   Cash Flow Per Share                                      6819 non-null   float64\n",
            " 21   Revenue Per Share (Yuan ¥)                               6819 non-null   float64\n",
            " 22   Operating Profit Per Share (Yuan ¥)                      6819 non-null   float64\n",
            " 23   Per Share Net profit before tax (Yuan ¥)                 6819 non-null   float64\n",
            " 24   Realized Sales Gross Profit Growth Rate                  6819 non-null   float64\n",
            " 25   Operating Profit Growth Rate                             6819 non-null   float64\n",
            " 26   After-tax Net Profit Growth Rate                         6819 non-null   float64\n",
            " 27   Regular Net Profit Growth Rate                           6819 non-null   float64\n",
            " 28   Continuous Net Profit Growth Rate                        6819 non-null   float64\n",
            " 29   Total Asset Growth Rate                                  6819 non-null   float64\n",
            " 30   Net Value Growth Rate                                    6819 non-null   float64\n",
            " 31   Total Asset Return Growth Rate Ratio                     6819 non-null   float64\n",
            " 32   Cash Reinvestment %                                      6819 non-null   float64\n",
            " 33   Current Ratio                                            6819 non-null   float64\n",
            " 34   Quick Ratio                                              6819 non-null   float64\n",
            " 35   Interest Expense Ratio                                   6819 non-null   float64\n",
            " 36   Total debt/Total net worth                               6819 non-null   float64\n",
            " 37   Debt ratio %                                             6819 non-null   float64\n",
            " 38   Net worth/Assets                                         6819 non-null   float64\n",
            " 39   Long-term fund suitability ratio (A)                     6819 non-null   float64\n",
            " 40   Borrowing dependency                                     6819 non-null   float64\n",
            " 41   Contingent liabilities/Net worth                         6819 non-null   float64\n",
            " 42   Operating profit/Paid-in capital                         6819 non-null   float64\n",
            " 43   Net profit before tax/Paid-in capital                    6819 non-null   float64\n",
            " 44   Inventory and accounts receivable/Net value              6819 non-null   float64\n",
            " 45   Total Asset Turnover                                     6819 non-null   float64\n",
            " 46   Accounts Receivable Turnover                             6819 non-null   float64\n",
            " 47   Average Collection Days                                  6819 non-null   float64\n",
            " 48   Inventory Turnover Rate (times)                          6819 non-null   float64\n",
            " 49   Fixed Assets Turnover Frequency                          6819 non-null   float64\n",
            " 50   Net Worth Turnover Rate (times)                          6819 non-null   float64\n",
            " 51   Revenue per person                                       6819 non-null   float64\n",
            " 52   Operating profit per person                              6819 non-null   float64\n",
            " 53   Allocation rate per person                               6819 non-null   float64\n",
            " 54   Working Capital to Total Assets                          6819 non-null   float64\n",
            " 55   Quick Assets/Total Assets                                6819 non-null   float64\n",
            " 56   Current Assets/Total Assets                              6819 non-null   float64\n",
            " 57   Cash/Total Assets                                        6819 non-null   float64\n",
            " 58   Quick Assets/Current Liability                           6819 non-null   float64\n",
            " 59   Cash/Current Liability                                   6819 non-null   float64\n",
            " 60   Current Liability to Assets                              6819 non-null   float64\n",
            " 61   Operating Funds to Liability                             6819 non-null   float64\n",
            " 62   Inventory/Working Capital                                6819 non-null   float64\n",
            " 63   Inventory/Current Liability                              6819 non-null   float64\n",
            " 64   Current Liabilities/Liability                            6819 non-null   float64\n",
            " 65   Working Capital/Equity                                   6819 non-null   float64\n",
            " 66   Current Liabilities/Equity                               6819 non-null   float64\n",
            " 67   Long-term Liability to Current Assets                    6819 non-null   float64\n",
            " 68   Retained Earnings to Total Assets                        6819 non-null   float64\n",
            " 69   Total income/Total expense                               6819 non-null   float64\n",
            " 70   Total expense/Assets                                     6819 non-null   float64\n",
            " 71   Current Asset Turnover Rate                              6819 non-null   float64\n",
            " 72   Quick Asset Turnover Rate                                6819 non-null   float64\n",
            " 73   Working capitcal Turnover Rate                           6819 non-null   float64\n",
            " 74   Cash Turnover Rate                                       6819 non-null   float64\n",
            " 75   Cash Flow to Sales                                       6819 non-null   float64\n",
            " 76   Fixed Assets to Assets                                   6819 non-null   float64\n",
            " 77   Current Liability to Liability                           6819 non-null   float64\n",
            " 78   Current Liability to Equity                              6819 non-null   float64\n",
            " 79   Equity to Long-term Liability                            6819 non-null   float64\n",
            " 80   Cash Flow to Total Assets                                6819 non-null   float64\n",
            " 81   Cash Flow to Liability                                   6819 non-null   float64\n",
            " 82   CFO to Assets                                            6819 non-null   float64\n",
            " 83   Cash Flow to Equity                                      6819 non-null   float64\n",
            " 84   Current Liability to Current Assets                      6819 non-null   float64\n",
            " 85   Liability-Assets Flag                                    6819 non-null   int64  \n",
            " 86   Net Income to Total Assets                               6819 non-null   float64\n",
            " 87   Total assets to GNP price                                6819 non-null   float64\n",
            " 88   No-credit Interval                                       6819 non-null   float64\n",
            " 89   Gross Profit to Sales                                    6819 non-null   float64\n",
            " 90   Net Income to Stockholder's Equity                       6819 non-null   float64\n",
            " 91   Liability to Equity                                      6819 non-null   float64\n",
            " 92   Degree of Financial Leverage (DFL)                       6819 non-null   float64\n",
            " 93   Interest Coverage Ratio (Interest expense to EBIT)       6819 non-null   float64\n",
            " 94   Net Income Flag                                          6819 non-null   int64  \n",
            " 95   Equity to Liability                                      6819 non-null   float64\n",
            "dtypes: float64(93), int64(3)\n",
            "memory usage: 5.0 MB\n"
          ],
          "name": "stdout"
        }
      ]
    },
    {
      "cell_type": "markdown",
      "metadata": {
        "id": "UIncra6a7Mfe"
      },
      "source": [
        "Our data is all clean."
      ]
    },
    {
      "cell_type": "markdown",
      "metadata": {
        "id": "LaJFlyAy7P9-"
      },
      "source": [
        "# Exploratory Data Analysis"
      ]
    },
    {
      "cell_type": "code",
      "metadata": {
        "colab": {
          "base_uri": "https://localhost:8080/"
        },
        "id": "Ap68oLg-5wkX",
        "outputId": "8d44b43c-bb5e-4915-c44a-dbee8d0d4fdb"
      },
      "source": [
        "df.shape"
      ],
      "execution_count": 8,
      "outputs": [
        {
          "output_type": "execute_result",
          "data": {
            "text/plain": [
              "(6819, 96)"
            ]
          },
          "metadata": {
            "tags": []
          },
          "execution_count": 8
        }
      ]
    },
    {
      "cell_type": "code",
      "metadata": {
        "colab": {
          "base_uri": "https://localhost:8080/"
        },
        "id": "OUkdUQUN6PrJ",
        "outputId": "a09111af-2234-4298-83a7-effda27dfa73"
      },
      "source": [
        "df['Bankrupt?'].value_counts()"
      ],
      "execution_count": 9,
      "outputs": [
        {
          "output_type": "execute_result",
          "data": {
            "text/plain": [
              "0    6599\n",
              "1     220\n",
              "Name: Bankrupt?, dtype: int64"
            ]
          },
          "metadata": {
            "tags": []
          },
          "execution_count": 9
        }
      ]
    },
    {
      "cell_type": "code",
      "metadata": {
        "colab": {
          "base_uri": "https://localhost:8080/",
          "height": 313
        },
        "id": "cXLuqrt67kmF",
        "outputId": "f6e55400-ca5f-4de8-9c91-5abdd3513bf3"
      },
      "source": [
        "plt.title('Actual Bankruptcy in Dataset')\r\n",
        "sns.countplot(x=df['Bankrupt?'])\r\n"
      ],
      "execution_count": 10,
      "outputs": [
        {
          "output_type": "execute_result",
          "data": {
            "text/plain": [
              "<matplotlib.axes._subplots.AxesSubplot at 0x7f70bbf3b310>"
            ]
          },
          "metadata": {
            "tags": []
          },
          "execution_count": 10
        },
        {
          "output_type": "display_data",
          "data": {
            "image/png": "[encoded data removed]",
            "text/plain": [
              "<Figure size 432x288 with 1 Axes>"
            ]
          },
          "metadata": {
            "tags": [],
            "needs_background": "light"
          }
        }
      ]
    },
    {
      "cell_type": "markdown",
      "metadata": {
        "id": "UBxyPxZi8H-F"
      },
      "source": [
        "## Modeling"
      ]
    },
    {
      "cell_type": "code",
      "metadata": {
        "id": "kRQQMGps75uD"
      },
      "source": [
        "X=df.drop(labels=['Bankrupt?'], axis=1)\r\n",
        "y=df['Bankrupt?']"
      ],
      "execution_count": 11,
      "outputs": []
    },
    {
      "cell_type": "code",
      "metadata": {
        "colab": {
          "base_uri": "https://localhost:8080/"
        },
        "id": "u8AzUSPk8c2d",
        "outputId": "0def77d9-968a-4a55-ad4f-7e5c3d2cfdf4"
      },
      "source": [
        "feat_select=SelectKBest(f_classif,k=50).fit(X,y)\r\n",
        "top50feat=X.columns[feat_select.get_support()]"
      ],
      "execution_count": 12,
      "outputs": [
        {
          "output_type": "stream",
          "text": [
            "/usr/local/lib/python3.7/dist-packages/sklearn/feature_selection/_univariate_selection.py:114: UserWarning: Features [93] are constant.\n",
            "  UserWarning)\n",
            "/usr/local/lib/python3.7/dist-packages/sklearn/feature_selection/_univariate_selection.py:115: RuntimeWarning: invalid value encountered in true_divide\n",
            "  f = msb / msw\n"
          ],
          "name": "stderr"
        }
      ]
    },
    {
      "cell_type": "markdown",
      "metadata": {
        "id": "zC6jcCffi_r4"
      },
      "source": [
        "## Standardization"
      ]
    },
    {
      "cell_type": "code",
      "metadata": {
        "id": "nzL9E9EAi-uI"
      },
      "source": [
        "scaler=StandardScaler()\r\n",
        "X_scale=scaler.fit_transform(X)\r\n",
        "\r\n",
        "X_train, X_test, y_train, y_test = train_test_split(X_scale, y,test_size=0.75)"
      ],
      "execution_count": 17,
      "outputs": []
    },
    {
      "cell_type": "markdown",
      "metadata": {
        "id": "7JeU5E-XiwBa"
      },
      "source": [
        "## Logistic Regression"
      ]
    },
    {
      "cell_type": "code",
      "metadata": {
        "id": "HqOK5OTa8ylW",
        "colab": {
          "base_uri": "https://localhost:8080/"
        },
        "outputId": "43372913-1a14-44f7-fa0f-d12241acb08b"
      },
      "source": [
        "log_reg=LogisticRegression()\r\n",
        "log_reg.fit(X_train,y_train)"
      ],
      "execution_count": 18,
      "outputs": [
        {
          "output_type": "execute_result",
          "data": {
            "text/plain": [
              "LogisticRegression(C=1.0, class_weight=None, dual=False, fit_intercept=True,\n",
              "                   intercept_scaling=1, l1_ratio=None, max_iter=100,\n",
              "                   multi_class='auto', n_jobs=None, penalty='l2',\n",
              "                   random_state=None, solver='lbfgs', tol=0.0001, verbose=0,\n",
              "                   warm_start=False)"
            ]
          },
          "metadata": {
            "tags": []
          },
          "execution_count": 18
        }
      ]
    },
    {
      "cell_type": "code",
      "metadata": {
        "colab": {
          "base_uri": "https://localhost:8080/"
        },
        "id": "YlOY1kJ4i5El",
        "outputId": "bffb4e80-079a-49ec-bf3a-a3e57bd6213c"
      },
      "source": [
        "log_reg.score(X_test,y_test)"
      ],
      "execution_count": 19,
      "outputs": [
        {
          "output_type": "execute_result",
          "data": {
            "text/plain": [
              "0.9622678396871945"
            ]
          },
          "metadata": {
            "tags": []
          },
          "execution_count": 19
        }
      ]
    },
    {
      "cell_type": "code",
      "metadata": {
        "id": "wvuV9sJujha8"
      },
      "source": [
        "y_pred=log_reg.predict(X_test)"
      ],
      "execution_count": 20,
      "outputs": []
    },
    {
      "cell_type": "markdown",
      "metadata": {
        "id": "C5NoelSpjux5"
      },
      "source": [
        "## Metrics"
      ]
    },
    {
      "cell_type": "code",
      "metadata": {
        "colab": {
          "base_uri": "https://localhost:8080/"
        },
        "id": "08Pd_znBjmFY",
        "outputId": "6be49ec8-c0b2-4d9b-ebdd-40bd52afbd54"
      },
      "source": [
        "print(classification_report(y_test,y_pred))"
      ],
      "execution_count": 25,
      "outputs": [
        {
          "output_type": "stream",
          "text": [
            "              precision    recall  f1-score   support\n",
            "\n",
            "           0       0.97      0.99      0.98      4948\n",
            "           1       0.38      0.23      0.29       167\n",
            "\n",
            "    accuracy                           0.96      5115\n",
            "   macro avg       0.67      0.61      0.63      5115\n",
            "weighted avg       0.95      0.96      0.96      5115\n",
            "\n"
          ],
          "name": "stdout"
        }
      ]
    },
    {
      "cell_type": "code",
      "metadata": {
        "colab": {
          "base_uri": "https://localhost:8080/",
          "height": 283
        },
        "id": "1z0H8MGbj58n",
        "outputId": "c14c51ab-9119-47c5-8c95-9df492fd9a77"
      },
      "source": [
        "sns.heatmap(confusion_matrix(y_test,y_pred), annot=True)"
      ],
      "execution_count": 26,
      "outputs": [
        {
          "output_type": "execute_result",
          "data": {
            "text/plain": [
              "<matplotlib.axes._subplots.AxesSubplot at 0x7f70b313cf50>"
            ]
          },
          "metadata": {
            "tags": []
          },
          "execution_count": 26
        },
        {
          "output_type": "display_data",
          "data": {
            "image/png": "[encoded data removed]",
            "text/plain": [
              "<Figure size 432x288 with 2 Axes>"
            ]
          },
          "metadata": {
            "tags": [],
            "needs_background": "light"
          }
        }
      ]
    },
    {
      "cell_type": "markdown",
      "metadata": {
        "id": "ypC6hh95kUp4"
      },
      "source": [
        "We will try to boost this a step further to yield higher results."
      ]
    },
    {
      "cell_type": "code",
      "metadata": {
        "id": "dCcTbLRZkJdD"
      },
      "source": [
        ""
      ],
      "execution_count": null,
      "outputs": []
    }
  ]
}